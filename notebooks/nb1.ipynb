{
 "cells": [
  {
   "cell_type": "markdown",
   "metadata": {},
   "source": [
    "## Notebook 1"
   ]
  },
  {
   "cell_type": "markdown",
   "metadata": {},
   "source": [
    "## 1. Getting images from server"
   ]
  },
  {
   "cell_type": "code",
   "execution_count": 1,
   "metadata": {},
   "outputs": [],
   "source": [
    "from urllib import request"
   ]
  },
  {
   "cell_type": "code",
   "execution_count": 2,
   "metadata": {},
   "outputs": [],
   "source": [
    "imgUrl = 'http://imagens1.jbrj.gov.br/fsi/server?type=image&width=375&height=600&rect=0,0,1,1&profile=fsi&source=hvpr%2Fmnhn%2Ftipos4%2DParis%2FP00128420%2Ejpg&'\n",
    "\n",
    "imgName = 'lauraceae.jpg'\n",
    "imgPath = '../data/img/'+imgName"
   ]
  },
  {
   "cell_type": "code",
   "execution_count": 3,
   "metadata": {},
   "outputs": [
    {
     "name": "stdout",
     "output_type": "stream",
     "text": [
      "Successfully downloaded image/jpeg file: ../data/img/lauraceae.jpg\n",
      "Server: Apache-Coyote/1.1\n",
      "X-Software: NeptuneLabs FSI Server 2.0.248\n",
      "Last-Modified: Fri, 15 Mar 2013 21:36:55 GMT\n",
      "Content-Type: image/jpeg\n",
      "Content-Length: 53718\n",
      "Date: Sun, 29 Jul 2018 00:41:45 GMT\n",
      "Connection: close\n",
      "\n",
      "\n"
     ]
    }
   ],
   "source": [
    "try:\n",
    "    res = request.urlretrieve(imgUrl, imgPath)\n",
    "    print(f\"Successfully downloaded {res[1]['Content-Type']} file: {res[0]}\\n\"+res[1].as_string())\n",
    "except Exception as e:\n",
    "    print(f\"Something went wrong: {e}\")"
   ]
  }
 ],
 "metadata": {
  "kernelspec": {
   "display_name": "Python 3",
   "language": "python",
   "name": "python3"
  },
  "language_info": {
   "codemirror_mode": {
    "name": "ipython",
    "version": 3
   },
   "file_extension": ".py",
   "mimetype": "text/x-python",
   "name": "python",
   "nbconvert_exporter": "python",
   "pygments_lexer": "ipython3",
   "version": "3.7.0"
  }
 },
 "nbformat": 4,
 "nbformat_minor": 2
}
