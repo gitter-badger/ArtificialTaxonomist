{
  "nbformat": 4,
  "nbformat_minor": 0,
  "metadata": {
    "colab": {
      "name": "nb1.ipynb",
      "version": "0.3.2",
      "provenance": []
    },
    "kernelspec": {
      "display_name": "Python 3",
      "language": "python",
      "name": "python3"
    }
  },
  "cells": [
    {
      "metadata": {
        "id": "6Hb7kZLPjXgk",
        "colab_type": "text"
      },
      "cell_type": "markdown",
      "source": [
        "## Notebook 1"
      ]
    },
    {
      "metadata": {
        "id": "DZfi-a7ujXgl",
        "colab_type": "text"
      },
      "cell_type": "markdown",
      "source": [
        "## 1. Getting images from server"
      ]
    },
    {
      "metadata": {
        "id": "t5GpzoMQjXgm",
        "colab_type": "code",
        "colab": {}
      },
      "cell_type": "code",
      "source": [
        "from urllib import request"
      ],
      "execution_count": 0,
      "outputs": []
    },
    {
      "metadata": {
        "id": "oqgGqkudjXgp",
        "colab_type": "code",
        "colab": {}
      },
      "cell_type": "code",
      "source": [
        "imgUrl = 'http://imagens1.jbrj.gov.br/fsi/server?type=image&width=375&height=600&rect=0,0,1,1&profile=fsi&source=hvpr%2Fmnhn%2Ftipos4%2DParis%2FP00128420%2Ejpg&'\n",
        "\n",
        "imgName = 'lauraceae.jpg'\n",
        "imgPath = '../data/img/'+imgName"
      ],
      "execution_count": 0,
      "outputs": []
    },
    {
      "metadata": {
        "id": "xO62bUFajXgr",
        "colab_type": "code",
        "colab": {},
        "outputId": "5bd46c46-735c-458f-ce3f-ab299c871706"
      },
      "cell_type": "code",
      "source": [
        "try:\n",
        "    res = request.urlretrieve(imgUrl, imgPath)\n",
        "    print(f\"Successfully downloaded {res[1]['Content-Type']} file: {res[0]}\\n\"+res[1].as_string())\n",
        "except Exception as e:\n",
        "    print(f\"Something went wrong: {e}\")"
      ],
      "execution_count": 0,
      "outputs": [
        {
          "output_type": "stream",
          "text": [
            "Successfully downloaded image/jpeg file: ../data/img/lauraceae.jpg\n",
            "Server: Apache-Coyote/1.1\n",
            "X-Software: NeptuneLabs FSI Server 2.0.248\n",
            "Last-Modified: Fri, 15 Mar 2013 21:36:55 GMT\n",
            "Content-Type: image/jpeg\n",
            "Content-Length: 53718\n",
            "Date: Sun, 29 Jul 2018 00:41:45 GMT\n",
            "Connection: close\n",
            "\n",
            "\n"
          ],
          "name": "stdout"
        }
      ]
    }
  ]
}