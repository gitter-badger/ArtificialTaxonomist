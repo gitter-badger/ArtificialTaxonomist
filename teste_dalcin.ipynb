{
  "nbformat": 4,
  "nbformat_minor": 0,
  "metadata": {
    "colab": {
      "name": "Untitled0.ipynb",
      "version": "0.3.2",
      "provenance": [],
      "include_colab_link": true
    },
    "kernelspec": {
      "name": "python3",
      "display_name": "Python 3"
    }
  },
  "cells": [
    {
      "cell_type": "markdown",
      "metadata": {
        "id": "view-in-github",
        "colab_type": "text"
      },
      "source": [
        "[View in Colaboratory](https://colab.research.google.com/github/edalcin/ArtificialTaxonomist/blob/master/teste_dalcin.ipynb)"
      ]
    },
    {
      "metadata": {
        "id": "kPPRt7966xJa",
        "colab_type": "text"
      },
      "cell_type": "markdown",
      "source": [
        "Aprendendo a usar notebooks no [Google Colab](https://colab.research.google.com)"
      ]
    },
    {
      "metadata": {
        "id": "Y8aHpUxb6zvp",
        "colab_type": "text"
      },
      "cell_type": "markdown",
      "source": [
        ""
      ]
    }
  ]
}